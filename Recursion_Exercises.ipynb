{
  "nbformat": 4,
  "nbformat_minor": 0,
  "metadata": {
    "colab": {
      "provenance": []
    },
    "kernelspec": {
      "name": "python3",
      "display_name": "Python 3"
    },
    "language_info": {
      "name": "python"
    }
  },
  "cells": [
    {
      "cell_type": "markdown",
      "source": [
        "## Notebook with simple recursion problems"
      ],
      "metadata": {
        "id": "_5X9Esy3LPSi"
      }
    },
    {
      "cell_type": "markdown",
      "source": [
        "BINARY SEARCH"
      ],
      "metadata": {
        "id": "wvqqNcYwKMH0"
      }
    },
    {
      "cell_type": "code",
      "execution_count": null,
      "metadata": {
        "id": "M0Fva-wuJBxW"
      },
      "outputs": [],
      "source": [
        "arr = [1,2,3,4,5,6,7,8,9]"
      ]
    },
    {
      "cell_type": "code",
      "source": [
        "def  bin_search(arr: list, target: int)-> bool:\n",
        "  if not arr:\n",
        "    return False\n",
        "  med_index = int(len(arr)/2)\n",
        "  med = arr[med_index]\n",
        "  if med == target:\n",
        "    return True\n",
        "  if med > target:\n",
        "    return bin_search(arr[:med_index], target)\n",
        "  if med <= target:\n",
        "    return bin_search(arr[med_index +1:], target)"
      ],
      "metadata": {
        "id": "UnRjIDVGJJCS"
      },
      "execution_count": null,
      "outputs": []
    },
    {
      "cell_type": "code",
      "source": [
        "bin_search(arr, 8)"
      ],
      "metadata": {
        "colab": {
          "base_uri": "https://localhost:8080/"
        },
        "id": "5HnX8kj2Jc-O",
        "outputId": "2f7a591d-a998-4464-d0db-a87eb76c6322"
      },
      "execution_count": null,
      "outputs": [
        {
          "output_type": "execute_result",
          "data": {
            "text/plain": [
              "True"
            ]
          },
          "metadata": {},
          "execution_count": 21
        }
      ]
    },
    {
      "cell_type": "markdown",
      "source": [
        "#### PRINT NUMBERS from n to 1"
      ],
      "metadata": {
        "id": "esQLOUEoKO5T"
      }
    },
    {
      "cell_type": "code",
      "source": [
        "def printN(num: int):\n",
        "  if num >=1:\n",
        "    print(num)\n",
        "    return printN(num-1)"
      ],
      "metadata": {
        "id": "-_osSg06Ksqc"
      },
      "execution_count": null,
      "outputs": []
    },
    {
      "cell_type": "code",
      "source": [
        "printN(5)"
      ],
      "metadata": {
        "colab": {
          "base_uri": "https://localhost:8080/"
        },
        "id": "Pt5qx25nLFCV",
        "outputId": "94e7ad9d-42c8-40c7-803d-13fc79c2a4cd"
      },
      "execution_count": null,
      "outputs": [
        {
          "output_type": "stream",
          "name": "stdout",
          "text": [
            "5\n",
            "4\n",
            "3\n",
            "2\n",
            "1\n"
          ]
        }
      ]
    },
    {
      "cell_type": "markdown",
      "source": [
        " from 1 to n"
      ],
      "metadata": {
        "id": "1SriQg7-LOHl"
      }
    },
    {
      "cell_type": "code",
      "source": [
        "def print1N(num: int):\n",
        "  if num >=1:\n",
        "    print1N(num-1)\n",
        "    print(num)"
      ],
      "metadata": {
        "id": "AmDCArYkLH_U"
      },
      "execution_count": null,
      "outputs": []
    },
    {
      "cell_type": "code",
      "source": [
        "print1N(5)"
      ],
      "metadata": {
        "colab": {
          "base_uri": "https://localhost:8080/"
        },
        "id": "-YthjJvCMH2E",
        "outputId": "c2049317-42b2-4f7b-e232-b607cf4b4a32"
      },
      "execution_count": null,
      "outputs": [
        {
          "output_type": "stream",
          "name": "stdout",
          "text": [
            "1\n",
            "2\n",
            "3\n",
            "4\n",
            "5\n"
          ]
        }
      ]
    },
    {
      "cell_type": "markdown",
      "source": [
        " from n to 1 to n"
      ],
      "metadata": {
        "id": "B_w4fbiAUcPe"
      }
    },
    {
      "cell_type": "code",
      "source": [
        "def printN1N(num: int):\n",
        "  if num >=1:\n",
        "    print(num)\n",
        "    printN1N(num-1)\n",
        "    print(num)\n"
      ],
      "metadata": {
        "id": "RXtdWOmVN-FR"
      },
      "execution_count": null,
      "outputs": []
    },
    {
      "cell_type": "code",
      "source": [
        "printN1N(5)"
      ],
      "metadata": {
        "colab": {
          "base_uri": "https://localhost:8080/"
        },
        "id": "R4pPzeV4Uiw0",
        "outputId": "adbf5d20-18f6-45f5-e621-b5afd4c306c9"
      },
      "execution_count": null,
      "outputs": [
        {
          "output_type": "stream",
          "name": "stdout",
          "text": [
            "5\n",
            "4\n",
            "3\n",
            "2\n",
            "1\n",
            "1\n",
            "2\n",
            "3\n",
            "4\n",
            "5\n"
          ]
        }
      ]
    },
    {
      "cell_type": "markdown",
      "source": [
        "Factorial of a number n"
      ],
      "metadata": {
        "id": "vc1BTHhJVR75"
      }
    },
    {
      "cell_type": "code",
      "source": [
        "def factorial(n):\n",
        "  if n == 1:\n",
        "    return 1\n",
        "  return n * factorial(n-1)\n"
      ],
      "metadata": {
        "id": "829KE7K4Uj_D"
      },
      "execution_count": null,
      "outputs": []
    },
    {
      "cell_type": "code",
      "source": [
        "factorial(4)"
      ],
      "metadata": {
        "colab": {
          "base_uri": "https://localhost:8080/"
        },
        "id": "ErPL-c1GVsnq",
        "outputId": "b2533607-b45c-495d-8a36-5a4e1f046f1a"
      },
      "execution_count": null,
      "outputs": [
        {
          "output_type": "execute_result",
          "data": {
            "text/plain": [
              "24"
            ]
          },
          "metadata": {},
          "execution_count": 45
        }
      ]
    },
    {
      "cell_type": "markdown",
      "source": [
        "sum of n numbers"
      ],
      "metadata": {
        "id": "pbDZXR-wWAvX"
      }
    },
    {
      "cell_type": "code",
      "source": [
        "def sum(n):\n",
        "  if n == 1:\n",
        "    return 1\n",
        "  return n + sum(n-1)"
      ],
      "metadata": {
        "id": "QOh23gRSVtvi"
      },
      "execution_count": null,
      "outputs": []
    },
    {
      "cell_type": "code",
      "source": [
        "sum(6)"
      ],
      "metadata": {
        "colab": {
          "base_uri": "https://localhost:8080/"
        },
        "id": "2VLJZZ_CWGVe",
        "outputId": "907cee51-391a-4525-b126-6c26061b25f1"
      },
      "execution_count": null,
      "outputs": [
        {
          "output_type": "execute_result",
          "data": {
            "text/plain": [
              "21"
            ]
          },
          "metadata": {},
          "execution_count": 49
        }
      ]
    },
    {
      "cell_type": "markdown",
      "source": [
        "# sum of digits\n",
        "SoD(1892) = 1 + 8 + 9 + 2 = 20"
      ],
      "metadata": {
        "id": "hJbqEIgfWS7L"
      }
    },
    {
      "cell_type": "code",
      "source": [
        "#conversion to string\n",
        "def SoD(n: int) -> int:\n",
        "  el = str(n)\n",
        "  l = len(el)\n",
        "  if l == 1:\n",
        "    return int(el[0])\n",
        "  else:\n",
        "    return int(el[l-1]) + SoD(int(el[:l-1]))"
      ],
      "metadata": {
        "id": "gcVA-etCWH4A"
      },
      "execution_count": null,
      "outputs": []
    },
    {
      "cell_type": "code",
      "source": [
        "def Sod(n:int) -> int:\n",
        "  d = n%10\n",
        "  if n == 0:\n",
        "    return 0\n",
        "  n = n//10\n",
        "  return d + Sod(n)"
      ],
      "metadata": {
        "id": "8LFABuLjYjq7"
      },
      "execution_count": null,
      "outputs": []
    },
    {
      "cell_type": "code",
      "source": [
        "SoD(1892)"
      ],
      "metadata": {
        "colab": {
          "base_uri": "https://localhost:8080/"
        },
        "id": "6PxJ15cJckkd",
        "outputId": "80e95a54-3e55-403d-8ed0-c9e06cfa09e0"
      },
      "execution_count": null,
      "outputs": [
        {
          "output_type": "execute_result",
          "data": {
            "text/plain": [
              "20"
            ]
          },
          "metadata": {},
          "execution_count": 96
        }
      ]
    },
    {
      "cell_type": "markdown",
      "source": [
        "Reverse a number\n",
        "\n",
        "54321 -> 12345\n"
      ],
      "metadata": {
        "id": "xsvO8p7WSViS"
      }
    },
    {
      "cell_type": "code",
      "source": [
        "def Reverse(n: str) -> str:\n",
        "  if len(n) == 0:\n",
        "    return '';\n",
        "  return n[-1] + Reverse(n[:len(n)-1])"
      ],
      "metadata": {
        "id": "-__6Wx6LgT-w"
      },
      "execution_count": 34,
      "outputs": []
    },
    {
      "cell_type": "code",
      "source": [
        "Reverse(\"66061870\")"
      ],
      "metadata": {
        "colab": {
          "base_uri": "https://localhost:8080/",
          "height": 36
        },
        "id": "pJd_aObvXvuJ",
        "outputId": "943e850c-5408-4704-a968-2b855eb589ec"
      },
      "execution_count": 35,
      "outputs": [
        {
          "output_type": "execute_result",
          "data": {
            "text/plain": [
              "'07816066'"
            ],
            "application/vnd.google.colaboratory.intrinsic+json": {
              "type": "string"
            }
          },
          "metadata": {},
          "execution_count": 35
        }
      ]
    },
    {
      "cell_type": "code",
      "source": [
        "def ReverseI(n: int, pow)-> int:\n",
        "  if n//10 == 0:\n",
        "    return n\n",
        "  return n%10 * (10 ** pow) + ReverseI(n//10, pow-1)"
      ],
      "metadata": {
        "id": "lmIbD27GVutu"
      },
      "execution_count": 69,
      "outputs": []
    },
    {
      "cell_type": "code",
      "source": [
        "ReverseI(7654321, 6)"
      ],
      "metadata": {
        "colab": {
          "base_uri": "https://localhost:8080/"
        },
        "id": "UZMBHKXhWb6O",
        "outputId": "8e07b483-d7e6-4e05-8c5b-4b6e6418074c"
      },
      "execution_count": 76,
      "outputs": [
        {
          "output_type": "execute_result",
          "data": {
            "text/plain": [
              "1234567"
            ]
          },
          "metadata": {},
          "execution_count": 76
        }
      ]
    },
    {
      "cell_type": "markdown",
      "source": [
        "non recursive:"
      ],
      "metadata": {
        "id": "8vCSbhqJUu7-"
      }
    },
    {
      "cell_type": "code",
      "source": [
        "def R(n: int)-> int:\n",
        "  return int(str(n)[::-1])"
      ],
      "metadata": {
        "id": "J6SDxin9Qk8h"
      },
      "execution_count": 67,
      "outputs": []
    },
    {
      "cell_type": "code",
      "source": [
        "R(66061870) #if the result is an int, we lose the first 0, to be correct return must be string"
      ],
      "metadata": {
        "colab": {
          "base_uri": "https://localhost:8080/"
        },
        "id": "2p6qF98oS2_J",
        "outputId": "d78bc254-ac10-4b22-d5bc-fd2c157b11a0"
      },
      "execution_count": 68,
      "outputs": [
        {
          "output_type": "execute_result",
          "data": {
            "text/plain": [
              "7816066"
            ]
          },
          "metadata": {},
          "execution_count": 68
        }
      ]
    },
    {
      "cell_type": "markdown",
      "source": [
        "Palindrome\n",
        "\n",
        "\"yamamay\" yes\n",
        "\"dog\" no"
      ],
      "metadata": {
        "id": "W0s9iIaOXv-I"
      }
    },
    {
      "cell_type": "code",
      "source": [
        "def palindrome(s: str) -> bool:\n",
        "  if len(s) == 1:\n",
        "    return True\n",
        "  if s[0] == s[-1]:\n",
        "    return palindrome(s[1:-1])\n",
        "  else:\n",
        "    return False"
      ],
      "metadata": {
        "id": "SAgVc8UKVSKO"
      },
      "execution_count": 92,
      "outputs": []
    },
    {
      "cell_type": "code",
      "source": [
        "print(palindrome(\"dog\"))"
      ],
      "metadata": {
        "colab": {
          "base_uri": "https://localhost:8080/"
        },
        "id": "Z4TM30xdYxem",
        "outputId": "603acb10-a9cf-4005-bce2-b6ca90c73964"
      },
      "execution_count": 94,
      "outputs": [
        {
          "output_type": "stream",
          "name": "stdout",
          "text": [
            "False\n"
          ]
        }
      ]
    },
    {
      "cell_type": "code",
      "source": [
        "print(palindrome(\"yamamay\"))"
      ],
      "metadata": {
        "colab": {
          "base_uri": "https://localhost:8080/"
        },
        "id": "ZkDKNskJYy-w",
        "outputId": "091b52dc-6e41-4c40-ede2-636d623bd4d8"
      },
      "execution_count": 96,
      "outputs": [
        {
          "output_type": "stream",
          "name": "stdout",
          "text": [
            "True\n"
          ]
        }
      ]
    },
    {
      "cell_type": "markdown",
      "source": [
        "Count zeros\n",
        "1009 = 2 zeros"
      ],
      "metadata": {
        "id": "phxWmxZDa9Ko"
      }
    },
    {
      "cell_type": "code",
      "source": [
        "def countZeros(n: int, count = 0) -> int:\n",
        "  if n == 0:\n",
        "    return count+1\n",
        "  if n//10 == 0:\n",
        "    return count\n",
        "  if n%10 == 0:\n",
        "    return countZeros(n//10, count+1)\n",
        "  else:\n",
        "    return countZeros(n//10, count)\n"
      ],
      "metadata": {
        "id": "lamgbrLUa9SN"
      },
      "execution_count": 105,
      "outputs": []
    },
    {
      "cell_type": "code",
      "source": [
        "countZeros(0)"
      ],
      "metadata": {
        "colab": {
          "base_uri": "https://localhost:8080/"
        },
        "id": "UG-yOgaja9U1",
        "outputId": "fc5038bd-47b0-4bb5-af14-a7415a6694a8"
      },
      "execution_count": 107,
      "outputs": [
        {
          "output_type": "execute_result",
          "data": {
            "text/plain": [
              "1"
            ]
          },
          "metadata": {},
          "execution_count": 107
        }
      ]
    },
    {
      "cell_type": "code",
      "source": [
        "countZeros(190002930012310)"
      ],
      "metadata": {
        "colab": {
          "base_uri": "https://localhost:8080/"
        },
        "id": "CTMdeTjRa9Xc",
        "outputId": "d7f4ff20-4769-48bb-d39e-7551520af39b"
      },
      "execution_count": 108,
      "outputs": [
        {
          "output_type": "execute_result",
          "data": {
            "text/plain": [
              "6"
            ]
          },
          "metadata": {},
          "execution_count": 108
        }
      ]
    },
    {
      "cell_type": "code",
      "source": [],
      "metadata": {
        "id": "R2RGtblac21o"
      },
      "execution_count": null,
      "outputs": []
    }
  ]
}