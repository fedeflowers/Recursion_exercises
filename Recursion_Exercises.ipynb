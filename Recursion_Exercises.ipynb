{
  "nbformat": 4,
  "nbformat_minor": 0,
  "metadata": {
    "colab": {
      "provenance": []
    },
    "kernelspec": {
      "name": "python3",
      "display_name": "Python 3"
    },
    "language_info": {
      "name": "python"
    }
  },
  "cells": [
    {
      "cell_type": "markdown",
      "source": [
        "## Notebook with simple recursion problems"
      ],
      "metadata": {
        "id": "_5X9Esy3LPSi"
      }
    },
    {
      "cell_type": "markdown",
      "source": [
        "BINARY SEARCH"
      ],
      "metadata": {
        "id": "wvqqNcYwKMH0"
      }
    },
    {
      "cell_type": "code",
      "execution_count": null,
      "metadata": {
        "id": "M0Fva-wuJBxW"
      },
      "outputs": [],
      "source": [
        "arr = [1,2,3,4,5,6,7,8,9]"
      ]
    },
    {
      "cell_type": "code",
      "source": [
        "def  bin_search(arr: list, target: int)-> bool:\n",
        "  if not arr:\n",
        "    return False\n",
        "  med_index = int(len(arr)/2)\n",
        "  med = arr[med_index]\n",
        "  if med == target:\n",
        "    return True\n",
        "  if med > target:\n",
        "    return bin_search(arr[:med_index], target)\n",
        "  if med <= target:\n",
        "    return bin_search(arr[med_index +1:], target)"
      ],
      "metadata": {
        "id": "UnRjIDVGJJCS"
      },
      "execution_count": null,
      "outputs": []
    },
    {
      "cell_type": "code",
      "source": [
        "bin_search(arr, 8)"
      ],
      "metadata": {
        "colab": {
          "base_uri": "https://localhost:8080/"
        },
        "id": "5HnX8kj2Jc-O",
        "outputId": "2f7a591d-a998-4464-d0db-a87eb76c6322"
      },
      "execution_count": null,
      "outputs": [
        {
          "output_type": "execute_result",
          "data": {
            "text/plain": [
              "True"
            ]
          },
          "metadata": {},
          "execution_count": 21
        }
      ]
    },
    {
      "cell_type": "markdown",
      "source": [
        "#### PRINT NUMBERS from n to 1"
      ],
      "metadata": {
        "id": "esQLOUEoKO5T"
      }
    },
    {
      "cell_type": "code",
      "source": [
        "def printN(num: int):\n",
        "  if num >=1:\n",
        "    print(num)\n",
        "    return printN(num-1)"
      ],
      "metadata": {
        "id": "-_osSg06Ksqc"
      },
      "execution_count": 26,
      "outputs": []
    },
    {
      "cell_type": "code",
      "source": [
        "printN(5)"
      ],
      "metadata": {
        "colab": {
          "base_uri": "https://localhost:8080/"
        },
        "id": "Pt5qx25nLFCV",
        "outputId": "94e7ad9d-42c8-40c7-803d-13fc79c2a4cd"
      },
      "execution_count": 27,
      "outputs": [
        {
          "output_type": "stream",
          "name": "stdout",
          "text": [
            "5\n",
            "4\n",
            "3\n",
            "2\n",
            "1\n"
          ]
        }
      ]
    },
    {
      "cell_type": "markdown",
      "source": [
        " from 1 to n"
      ],
      "metadata": {
        "id": "1SriQg7-LOHl"
      }
    },
    {
      "cell_type": "code",
      "source": [
        "def print1N(num: int):\n",
        "  if num >=1:\n",
        "    print1N(num-1)\n",
        "    print(num)"
      ],
      "metadata": {
        "id": "AmDCArYkLH_U"
      },
      "execution_count": 32,
      "outputs": []
    },
    {
      "cell_type": "code",
      "source": [
        "print1N(5)"
      ],
      "metadata": {
        "colab": {
          "base_uri": "https://localhost:8080/"
        },
        "id": "-YthjJvCMH2E",
        "outputId": "c2049317-42b2-4f7b-e232-b607cf4b4a32"
      },
      "execution_count": 33,
      "outputs": [
        {
          "output_type": "stream",
          "name": "stdout",
          "text": [
            "1\n",
            "2\n",
            "3\n",
            "4\n",
            "5\n"
          ]
        }
      ]
    },
    {
      "cell_type": "markdown",
      "source": [
        " from n to 1 to n"
      ],
      "metadata": {
        "id": "B_w4fbiAUcPe"
      }
    },
    {
      "cell_type": "code",
      "source": [
        "def printN1N(num: int):\n",
        "  if num >=1:\n",
        "    print(num)\n",
        "    printN1N(num-1)\n",
        "    print(num)\n"
      ],
      "metadata": {
        "id": "RXtdWOmVN-FR"
      },
      "execution_count": 39,
      "outputs": []
    },
    {
      "cell_type": "code",
      "source": [
        "printN1N(5)"
      ],
      "metadata": {
        "colab": {
          "base_uri": "https://localhost:8080/"
        },
        "id": "R4pPzeV4Uiw0",
        "outputId": "adbf5d20-18f6-45f5-e621-b5afd4c306c9"
      },
      "execution_count": 40,
      "outputs": [
        {
          "output_type": "stream",
          "name": "stdout",
          "text": [
            "5\n",
            "4\n",
            "3\n",
            "2\n",
            "1\n",
            "1\n",
            "2\n",
            "3\n",
            "4\n",
            "5\n"
          ]
        }
      ]
    },
    {
      "cell_type": "markdown",
      "source": [
        "Factorial of a number n"
      ],
      "metadata": {
        "id": "vc1BTHhJVR75"
      }
    },
    {
      "cell_type": "code",
      "source": [
        "def factorial(n):\n",
        "  if n == 1:\n",
        "    return 1\n",
        "  return n * factorial(n-1)\n"
      ],
      "metadata": {
        "id": "829KE7K4Uj_D"
      },
      "execution_count": 41,
      "outputs": []
    },
    {
      "cell_type": "code",
      "source": [
        "factorial(4)"
      ],
      "metadata": {
        "colab": {
          "base_uri": "https://localhost:8080/"
        },
        "id": "ErPL-c1GVsnq",
        "outputId": "b2533607-b45c-495d-8a36-5a4e1f046f1a"
      },
      "execution_count": 45,
      "outputs": [
        {
          "output_type": "execute_result",
          "data": {
            "text/plain": [
              "24"
            ]
          },
          "metadata": {},
          "execution_count": 45
        }
      ]
    },
    {
      "cell_type": "markdown",
      "source": [
        "sum of n numbers"
      ],
      "metadata": {
        "id": "pbDZXR-wWAvX"
      }
    },
    {
      "cell_type": "code",
      "source": [
        "def sum(n):\n",
        "  if n == 1:\n",
        "    return 1\n",
        "  return n + sum(n-1)"
      ],
      "metadata": {
        "id": "QOh23gRSVtvi"
      },
      "execution_count": 48,
      "outputs": []
    },
    {
      "cell_type": "code",
      "source": [
        "sum(6)"
      ],
      "metadata": {
        "colab": {
          "base_uri": "https://localhost:8080/"
        },
        "id": "2VLJZZ_CWGVe",
        "outputId": "907cee51-391a-4525-b126-6c26061b25f1"
      },
      "execution_count": 49,
      "outputs": [
        {
          "output_type": "execute_result",
          "data": {
            "text/plain": [
              "21"
            ]
          },
          "metadata": {},
          "execution_count": 49
        }
      ]
    },
    {
      "cell_type": "markdown",
      "source": [
        "# sum of digits\n",
        "SoD(1892) = 1 + 8 + 9 + 2 = 20"
      ],
      "metadata": {
        "id": "hJbqEIgfWS7L"
      }
    },
    {
      "cell_type": "code",
      "source": [
        "#conversion to string\n",
        "def SoD(n: int) -> int:\n",
        "  el = str(n)\n",
        "  l = len(el)\n",
        "  if l == 1:\n",
        "    return int(el[0])\n",
        "  else:\n",
        "    return int(el[l-1]) + SoD(int(el[:l-1]))"
      ],
      "metadata": {
        "id": "gcVA-etCWH4A"
      },
      "execution_count": 83,
      "outputs": []
    },
    {
      "cell_type": "code",
      "source": [
        "def Sod(n:int) -> int:\n",
        "  d = n%10\n",
        "  if n == 0:\n",
        "    return 0\n",
        "  n = n//10\n",
        "  return d + Sod(n)"
      ],
      "metadata": {
        "id": "8LFABuLjYjq7"
      },
      "execution_count": 91,
      "outputs": []
    },
    {
      "cell_type": "code",
      "source": [],
      "metadata": {
        "id": "6PxJ15cJckkd"
      },
      "execution_count": null,
      "outputs": []
    }
  ]
}